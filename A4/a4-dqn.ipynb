{
  "nbformat": 4,
  "nbformat_minor": 0,
  "metadata": {
    "accelerator": "GPU",
    "colab": {
      "name": "a4-dqn.ipynb",
      "provenance": [],
      "collapsed_sections": []
    },
    "kernelspec": {
      "display_name": "Python 3",
      "name": "python3"
    }
  },
  "cells": [
    {
      "cell_type": "markdown",
      "metadata": {
        "id": "V3szwJAdaoQa"
      },
      "source": [
        "## Enable rendering OpenAI Gym environments from CoLab\n",
        "\n",
        "In this assignemnt, We will use [OpenAI Gym](https://gym.openai.com/) for rendering game envionment for our agent to play and learn. It is possible and important to visualize the game your agent is playing, even on Colab. This section imports the necessary package and functions needed to generate a video in Colab. The video processing steps credit to [here](https://colab.research.google.com/drive/1flu31ulJlgiRL1dnN2ir8wGh9p7Zij2t)."
      ]
    },
    {
      "cell_type": "code",
      "metadata": {
        "id": "8rFaTvFab6Kz"
      },
      "source": [
        "!pip install gym pyvirtualdisplay > /dev/null 2>&1\n",
        "!apt-get install -y xvfb python-opengl ffmpeg > /dev/null 2>&1"
      ],
      "execution_count": null,
      "outputs": []
    },
    {
      "cell_type": "code",
      "metadata": {
        "colab": {
          "base_uri": "https://localhost:8080/"
        },
        "id": "M9fFfA-gb8oC",
        "outputId": "0ec0a8e1-3662-4a47-93dc-3d11c4e3f5e1"
      },
      "source": [
        "!apt-get update > /dev/null 2>&1\n",
        "!apt-get install cmake > /dev/null 2>&1\n",
        "!pip install --upgrade setuptools 2>&1\n",
        "!pip install ez_setup > /dev/null 2>&1\n",
        "!pip install gym[atari] > /dev/null 2>&1"
      ],
      "execution_count": null,
      "outputs": [
        {
          "output_type": "stream",
          "text": [
            "Requirement already up-to-date: setuptools in /usr/local/lib/python3.7/dist-packages (54.2.0)\n"
          ],
          "name": "stdout"
        }
      ]
    },
    {
      "cell_type": "markdown",
      "metadata": {
        "id": "QfTPg6uZckCm"
      },
      "source": [
        "Import openAI gym and define the functions used to show the video."
      ]
    },
    {
      "cell_type": "code",
      "metadata": {
        "id": "JLl9cs6ncAf0"
      },
      "source": [
        "import gym\n",
        "from gym.wrappers import Monitor\n",
        "import glob\n",
        "import io\n",
        "import base64\n",
        "from IPython.display import HTML\n",
        "from pyvirtualdisplay import Display\n",
        "from IPython import display as ipythondisplay\n",
        "\n",
        "display = Display(visible=0, size=(1400, 900))\n",
        "display.start()\n",
        "\n",
        "\"\"\"\n",
        "Utility functions to enable video recording of gym environment \n",
        "and displaying it.\n",
        "To enable video, just do \"env = wrap_env(env)\"\"\n",
        "\"\"\"\n",
        "\n",
        "def show_video():\n",
        "  mp4list = glob.glob('video/*.mp4')\n",
        "  if len(mp4list) > 0:\n",
        "    mp4 = mp4list[0]\n",
        "    video = io.open(mp4, 'r+b').read()\n",
        "    encoded = base64.b64encode(video)\n",
        "    ipythondisplay.display(HTML(data='''<video alt=\"test\" autoplay \n",
        "                loop controls style=\"height: 400px;\">\n",
        "                <source src=\"data:video/mp4;base64,{0}\" type=\"video/mp4\" />\n",
        "             </video>'''.format(encoded.decode('ascii'))))\n",
        "  else: \n",
        "    print(\"Could not find video\")\n",
        "    \n",
        "\n",
        "def wrap_env(env):\n",
        "  env = Monitor(env, './video', force=True)\n",
        "  return env"
      ],
      "execution_count": null,
      "outputs": []
    },
    {
      "cell_type": "markdown",
      "metadata": {
        "id": "UHkrflTWakKd"
      },
      "source": [
        "Import other packages:\n",
        "\n",
        "We will use Pytorch for building and learning our DQN network."
      ]
    },
    {
      "cell_type": "code",
      "metadata": {
        "id": "9KvZYSl6RrzD"
      },
      "source": [
        "import torch\n",
        "from torch import nn\n",
        "import copy\n",
        "from collections import deque\n",
        "import random\n",
        "from tqdm import tqdm\n",
        "import matplotlib.pyplot as plt"
      ],
      "execution_count": null,
      "outputs": []
    },
    {
      "cell_type": "markdown",
      "metadata": {
        "id": "zrLGCk-3ditk"
      },
      "source": [
        "## Run the game with random agent."
      ]
    },
    {
      "cell_type": "code",
      "metadata": {
        "colab": {
          "base_uri": "https://localhost:8080/",
          "height": 455
        },
        "id": "ZMcGALcWeWfh",
        "outputId": "f33661c8-f6f1-4327-d1bf-e2ee349f9c75"
      },
      "source": [
        "from torch import randint\n",
        "from time import sleep\n",
        "\n",
        "env = wrap_env(gym.make('CartPole-v0'))\n",
        "reward_arr = []\n",
        "episode_count = 20\n",
        "for i in tqdm(range(episode_count)):\n",
        "    obs, done, rew = env.reset(), False, 0\n",
        "    env.render()\n",
        "    while not done:\n",
        "        A = randint(0, env.action_space.n, (1,))\n",
        "        obs, reward, done, info = env.step(A.item())\n",
        "        rew += reward\n",
        "        sleep(0.01)\n",
        "    reward_arr.append(rew)\n",
        "print(\"average reward per episode :\", sum(reward_arr) / len(reward_arr))\n",
        "env.close()\n",
        "show_video()"
      ],
      "execution_count": null,
      "outputs": [
        {
          "output_type": "stream",
          "text": [
            "100%|██████████| 20/20 [00:05<00:00,  3.34it/s]"
          ],
          "name": "stderr"
        },
        {
          "output_type": "stream",
          "text": [
            "average reward per episode : 22.25\n"
          ],
          "name": "stdout"
        },
        {
          "output_type": "stream",
          "text": [
            "\n"
          ],
          "name": "stderr"
        },
        {
          "output_type": "display_data",
          "data": {
            "text/html": [
              "<video alt=\"test\" autoplay \n",
              "                loop controls style=\"height: 400px;\">\n",
              "                <source src=\"data:video/mp4;base64,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\" type=\"video/mp4\" />\n",
              "             </video>"
            ],
            "text/plain": [
              "<IPython.core.display.HTML object>"
            ]
          },
          "metadata": {
            "tags": []
          }
        }
      ]
    },
    {
      "cell_type": "markdown",
      "metadata": {
        "id": "Ope0zHAjfXQh"
      },
      "source": [
        "You can see that a random agent is having trouble balancing the CartPole, just like you. However, a difficult game for human may be very simple to a computer. Let's see how we can use DQN to train a agent. "
      ]
    },
    {
      "cell_type": "markdown",
      "metadata": {
        "id": "OjP_2jn3SFgv"
      },
      "source": [
        "## Experience Replay\n",
        "\n",
        "The technique of experience replay was first proposed in to resolve temporal correlation in the input data by mixing recent experiences as well past experiences, essentially forcing the input to become independent and identically distributed (i.i.d.). It has been shown that this greatly stabilizes\n",
        "and improves the DQN training procedure."
      ]
    },
    {
      "cell_type": "code",
      "metadata": {
        "id": "SoxW1Jlnk8mS"
      },
      "source": [
        "class ExperienceReplay(object):\n",
        "      def __init__(self, length):\n",
        "        self.experience_replay = deque(maxlen=length)\n",
        "\n",
        "      def collect(self, experience):\n",
        "        self.experience_replay.append(experience)\n",
        "        return\n",
        "\n",
        "      def sample_from_experience(self, sample_size):\n",
        "        if len(self.experience_replay) < sample_size:\n",
        "            sample_size = len(self.experience_replay)\n",
        "        sample = random.sample(self.experience_replay, sample_size)\n",
        "        state = torch.tensor([exp[0] for exp in sample]).float()\n",
        "        action = torch.tensor([exp[1] for exp in sample]).float()\n",
        "        reward = torch.tensor([exp[2] for exp in sample]).float()\n",
        "        next_state = torch.tensor([exp[3] for exp in sample]).float()\n",
        "        return state, action, reward, next_state\n"
      ],
      "execution_count": null,
      "outputs": []
    },
    {
      "cell_type": "markdown",
      "metadata": {
        "id": "CgXwmV2im4Sx"
      },
      "source": [
        "## Build our DQN Network\n",
        "\n",
        "We will use a simple multi-layer neural network to learn the optimal actions. We will use Adam Optimizor and MSE loss for training."
      ]
    },
    {
      "cell_type": "code",
      "metadata": {
        "id": "Wmd1pfuRm7MQ"
      },
      "source": [
        "class DQN_Network:\n",
        "\n",
        "    def __init__(self, layer_size_list, lr, seed=1423):\n",
        "        torch.manual_seed(seed)\n",
        "        self.policy_net = self.create_network(layer_size_list)\n",
        "        self.target_net = copy.deepcopy(self.policy_net)\n",
        "  \n",
        "        self.loss_fn = torch.nn.MSELoss()\n",
        "        self.optimizer = torch.optim.Adam(self.policy_net.parameters(), lr=lr)\n",
        "\n",
        "        self.step = 0\n",
        "        self.gamma = torch.tensor(0.95).float()\n",
        "        return\n",
        "\n",
        "    def create_network(self, layer_size_list):\n",
        "        assert len(layer_size_list) > 1\n",
        "\n",
        "        layers = []\n",
        "        for i in range(len(layer_size_list) - 1):\n",
        "            linear = nn.Linear(layer_size_list[i], layer_size_list[i + 1])\n",
        "\n",
        "            if i < len(layer_size_list) - 2:\n",
        "              activation = nn.Tanh()\n",
        "            else:\n",
        "              activation = nn.Identity()\n",
        "\n",
        "            layers += (linear, activation)\n",
        "        return nn.Sequential(*layers)\n",
        "\n",
        "    def load_pretrained_model(self, model_path):\n",
        "        self.policy_net.load_state_dict(torch.load(model_path))\n",
        "\n",
        "    def save_trained_model(self, model_path=\"cartpole-dqn.pth\"):\n",
        "        torch.save(self.policy_net.state_dict(), model_path)\n"
      ],
      "execution_count": null,
      "outputs": []
    },
    {
      "cell_type": "markdown",
      "metadata": {
        "id": "xKVV16YctASm"
      },
      "source": [
        "## **[Your task]**: complete the function that chooses the next action\n",
        "\n",
        "Choose next action based on **$\\epsilon$-greedy**:\n",
        "\n",
        "\\begin{align}\\text{where} \\quad \\mathcal{a_{t+1}} = \\begin{cases}\n",
        "     \\text{argmax}_{a}Q(a, s)  & \\text{with probability }: 1 - \\epsilon, \\text{exploitation}\\\\\n",
        "     \\text{Uniform}\\{a_{1},...,a_{n}\\} & \\text{with probability}:   \\epsilon, \\text{exploration} \\\\\n",
        "   \\end{cases}\\end{align}"
      ]
    },
    {
      "cell_type": "code",
      "metadata": {
        "id": "iE0gVweYs8xW"
      },
      "source": [
        "def get_action(model, state, action_space_len, epsilon):\n",
        "    # We do not require gradient at this point, because this function will be used either\n",
        "    # during experience collection or during inference\n",
        "\n",
        "    with torch.no_grad():\n",
        "        Qp = model.policy_net(torch.from_numpy(state).float())\n",
        "    Q_value, action = torch.max(Qp, axis=0)\n",
        "\n",
        "    ## TODO: select action and action\n",
        "    if torch.rand(1) <= epsilon:\n",
        "      action = torch.randint(action_space_len, (1,))\n",
        "    else:\n",
        "      action = action\n",
        "\n",
        "    return action"
      ],
      "execution_count": null,
      "outputs": []
    },
    {
      "cell_type": "markdown",
      "metadata": {
        "id": "iF9a5-IbazjQ"
      },
      "source": [
        "### **[Your task]**: complete the function that train the network for one step\n",
        "\n",
        "Here, you can find an ``train`` function that performs a\n",
        "single step of the optimization. \n",
        "\n",
        "For our training update rule, the loss you are trying to minimize is:\n",
        "\n",
        "\\begin{align}\\text{loss} = Q(s, a) - (r + \\gamma \\max_a Q(s', a))\\end{align}"
      ]
    },
    {
      "cell_type": "code",
      "metadata": {
        "id": "mtx4FAiab0Hp"
      },
      "source": [
        "def train(model, batch_size):\n",
        "    state, action, reward, next_state = memory.sample_from_experience(sample_size=batch_size)\n",
        "    # TODO: predict expected return of current state using main network\n",
        "    \n",
        "    all_q = model.policy_net(state)\n",
        "    action_ind = action.view(batch_size, 1).long()\n",
        "    q_value = torch.gather(all_q, 1, index = action_ind)\n",
        "\n",
        "\n",
        "    # TODO: get target return using target network\n",
        "    qr = model.target_net(next_state)\n",
        "  \n",
        "    expected_return, _ = torch.max(qr, axis = 1)\n",
        "    expected_return = expected_return.view(batch_size, 1)\n",
        "\n",
        "\n",
        "    # TODO: compute the loss\n",
        "    loss = model.loss_fn(q_value, model.gamma*expected_return + reward)\n",
        "\n",
        "\n",
        "    model.optimizer.zero_grad()\n",
        "    loss.backward(retain_graph=True)\n",
        "    model.optimizer.step()\n",
        "\n",
        "    model.step += 1\n",
        "    if model.step % 5 == 0:\n",
        "        model.target_net.load_state_dict(model.policy_net.state_dict())\n",
        "\n",
        "    return loss.item()"
      ],
      "execution_count": null,
      "outputs": []
    },
    {
      "cell_type": "markdown",
      "metadata": {
        "id": "uskoe87Uz-Jg"
      },
      "source": [
        "### **[Your task]**: Finish the training loop\n",
        "\n",
        "In this part, you can play around with ```exp_replay_size```, ```episode```, ```epsilon``` and the \"episodo decay\" logic to train your model."
      ]
    },
    {
      "cell_type": "code",
      "metadata": {
        "colab": {
          "base_uri": "https://localhost:8080/"
        },
        "id": "3NfNnyD6SPpN",
        "outputId": "476bfb6f-db56-40eb-d8de-d5bf8bfc7ef9"
      },
      "source": [
        "# Create the model\n",
        "env = gym.make('CartPole-v0')\n",
        "input_dim = env.observation_space.shape[0]\n",
        "output_dim = env.action_space.n\n",
        "agent = DQN_Network(layer_size_list=[input_dim, 64, output_dim], lr=1e-3)\n",
        "\n",
        "# Main training loop\n",
        "losses_list, reward_list, episode_len_list, epsilon_list = [], [], [], []\n",
        "\n",
        "# TODO: try different values, it normally takes more than 6k episodes to train\n",
        "exp_replay_size = 64\n",
        "memory = ExperienceReplay(exp_replay_size)\n",
        "episodes = 13000\n",
        "epsilon = 1 # episilon start from 1 and decay gradually. \n",
        "\n",
        "# initiliaze experiance replay\n",
        "index = 0\n",
        "for i in range(exp_replay_size):\n",
        "    obs = env.reset()\n",
        "    done = False\n",
        "    while not done:\n",
        "        A = get_action(agent, obs, env.action_space.n, epsilon=1)\n",
        "        obs_next, reward, done, _ = env.step(A.item())\n",
        "        memory.collect([obs, A.item(), reward, obs_next])\n",
        "        obs = obs_next\n",
        "        index += 1\n",
        "        if index > exp_replay_size:\n",
        "            break\n",
        "\n",
        "index = 128\n",
        "for i in tqdm(range(episodes)):\n",
        "    obs, done, losses, ep_len, rew = env.reset(), False, 0, 0, 0\n",
        "    while not done:\n",
        "        ep_len += 1\n",
        "        A = get_action(agent, obs, env.action_space.n, epsilon)\n",
        "        obs_next, reward, done, _ = env.step(A.item())\n",
        "        memory.collect([obs, A.item(), reward, obs_next])\n",
        "\n",
        "        obs = obs_next\n",
        "        rew += reward\n",
        "        index += 1\n",
        "\n",
        "        if index > 128:\n",
        "            index = 0\n",
        "            for j in range(4):\n",
        "                loss = train(agent, batch_size=16)\n",
        "                losses += loss\n",
        "    \n",
        "    # TODO: add epsilon decay rule here!\n",
        "    if (i%1000 == 0) and (i != 0): \n",
        "      epsilon = epsilon * 0.60\n",
        "      #print(epsilon)\n",
        "\n",
        "    losses_list.append(losses / ep_len), reward_list.append(rew)\n",
        "    episode_len_list.append(ep_len), epsilon_list.append(epsilon)\n",
        "\n",
        "print(\"Saving trained model\")\n",
        "agent.save_trained_model(\"cartpole-dqn.pth\")"
      ],
      "execution_count": null,
      "outputs": [
        {
          "output_type": "stream",
          "text": [
            "  0%|          | 0/13000 [00:00<?, ?it/s]/usr/local/lib/python3.7/dist-packages/torch/nn/modules/loss.py:528: UserWarning: Using a target size (torch.Size([16, 16])) that is different to the input size (torch.Size([16, 1])). This will likely lead to incorrect results due to broadcasting. Please ensure they have the same size.\n",
            "  return F.mse_loss(input, target, reduction=self.reduction)\n",
            "100%|██████████| 13000/13000 [03:17<00:00, 65.93it/s]"
          ],
          "name": "stderr"
        },
        {
          "output_type": "stream",
          "text": [
            "Saving trained model\n"
          ],
          "name": "stdout"
        },
        {
          "output_type": "stream",
          "text": [
            "\n"
          ],
          "name": "stderr"
        }
      ]
    },
    {
      "cell_type": "markdown",
      "metadata": {
        "id": "CCow7jNXf5YT"
      },
      "source": [
        "## Last Step: evaluate your trained model!\n",
        "\n",
        "First we can plot the reward vs. episode:"
      ]
    },
    {
      "cell_type": "code",
      "metadata": {
        "colab": {
          "base_uri": "https://localhost:8080/",
          "height": 295
        },
        "id": "-Hy_FP7yeXA4",
        "outputId": "6ec97948-6e3f-468a-c8b5-c61f4f0f2e0e"
      },
      "source": [
        "def plot_reward(r):\n",
        "    plt.figure(2)\n",
        "    plt.clf()\n",
        "    plt.title('Result')\n",
        "    plt.xlabel('Episode')\n",
        "    plt.ylabel('Reward')\n",
        "    plt.plot(r)\n",
        "\n",
        "plot_reward(reward_list)"
      ],
      "execution_count": null,
      "outputs": [
        {
          "output_type": "display_data",
          "data": {
            "image/png": "[encoded data removed]",
            "text/plain": [
              "<Figure size 432x288 with 1 Axes>"
            ]
          },
          "metadata": {
            "tags": [],
            "needs_background": "light"
          }
        }
      ]
    },
    {
      "cell_type": "code",
      "metadata": {
        "colab": {
          "base_uri": "https://localhost:8080/",
          "height": 455
        },
        "id": "EMEivKldTGVG",
        "outputId": "5f078c13-b8cc-485d-bee2-d143b96c2291"
      },
      "source": [
        "env = wrap_env(gym.make('CartPole-v0'))\n",
        "\n",
        "input_dim = env.observation_space.shape[0]\n",
        "output_dim = env.action_space.n\n",
        "model_validate = DQN_Network(layer_size_list=[input_dim, 64, output_dim], lr=1e-3)\n",
        "model_validate.load_pretrained_model(\"cartpole-dqn.pth\")\n",
        "\n",
        "reward_arr = []\n",
        "for i in tqdm(range(300)):\n",
        "    obs, done, rew = env.reset(), False, 0\n",
        "    env.render()\n",
        "    while not done:\n",
        "        A = get_action(model_validate, obs, env.action_space.n, epsilon=0)\n",
        "        #print(A)\n",
        "        obs, reward, done, info = env.step(A.item())\n",
        "        rew += reward\n",
        "        # sleep(0.01)\n",
        "\n",
        "    reward_arr.append(rew)\n",
        "print(\"average reward per episode :\", sum(reward_arr) / len(reward_arr))\n",
        "env.close()\n",
        "show_video()"
      ],
      "execution_count": null,
      "outputs": [
        {
          "output_type": "stream",
          "text": [
            "100%|██████████| 300/300 [00:18<00:00, 16.06it/s]"
          ],
          "name": "stderr"
        },
        {
          "output_type": "stream",
          "text": [
            "average reward per episode : 200.0\n"
          ],
          "name": "stdout"
        },
        {
          "output_type": "stream",
          "text": [
            "\n"
          ],
          "name": "stderr"
        },
        {
          "output_type": "display_data",
          "data": {
            "text/html": [
              "<video alt=\"test\" autoplay \n",
              "                loop controls style=\"height: 400px;\">\n",
              "                <source src=\"data:video/mp4;base64,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\" type=\"video/mp4\" />\n",
              "             </video>"
            ],
            "text/plain": [
              "<IPython.core.display.HTML object>"
            ]
          },
          "metadata": {
            "tags": []
          }
        }
      ]
    }
  ]
}